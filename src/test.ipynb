{
 "cells": [
  {
   "cell_type": "code",
   "execution_count": 1,
   "metadata": {},
   "outputs": [],
   "source": [
    "import boto3\n",
    "from dotenv import load_dotenv\n",
    "import pprint\n",
    "\n",
    "load_dotenv()\n",
    "\n",
    "# API Calls\n",
    "def create_group(client, id, name, desc = ''):\n",
    "    return client.create_group(IdentityStoreId = id, DisplayName = name, Description = desc)\n",
    "\n",
    "def delete_group(client, id, group_id):\n",
    "    return client.delete_group(IdentityStoreId=id, GroupId=group_id)\n",
    "\n",
    "def list_group(client, id):\n",
    "    return client.list_groups(IdentityStoreId = id)\n",
    "\n",
    "# Helper Functions\n",
    "def delete_all_groups(client, id):\n",
    "    response = list_group(client, id)\n",
    "    for group in response['Groups']:\n",
    "        return\n",
    "\n",
    "def main():\n",
    "    # Create Identity Store client\n",
    "    client = boto3.client('identitystore', region_name='us-west-1')\n",
    "    id = 'd-916710dec9'\n",
    "    response = list_group(client, id)\n",
    "\n",
    "    pp = pprint.PrettyPrinter(indent=4)\n",
    "    pp.pprint(response)\n",
    "    \n",
    "    return\n"
   ]
  },
  {
   "cell_type": "code",
   "execution_count": 2,
   "metadata": {},
   "outputs": [],
   "source": [
    "client = boto3.client('identitystore', region_name='us-west-1')\n",
    "id = 'd-916710dec9'\n",
    "response = list_group(client, id)"
   ]
  },
  {
   "cell_type": "code",
   "execution_count": 11,
   "metadata": {},
   "outputs": [],
   "source": [
    "\n",
    "response = create_group(client, id, \"testgroupA\",\"No Description\")"
   ]
  }
 ],
 "metadata": {
  "kernelspec": {
   "display_name": "Python 3",
   "language": "python",
   "name": "python3"
  },
  "language_info": {
   "codemirror_mode": {
    "name": "ipython",
    "version": 3
   },
   "file_extension": ".py",
   "mimetype": "text/x-python",
   "name": "python",
   "nbconvert_exporter": "python",
   "pygments_lexer": "ipython3",
   "version": "3.11.4"
  }
 },
 "nbformat": 4,
 "nbformat_minor": 2
}
